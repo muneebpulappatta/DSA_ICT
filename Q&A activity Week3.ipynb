{
 "cells": [
  {
   "cell_type": "markdown",
   "metadata": {
    "id": "4z_Z-K1tlrS7"
   },
   "source": [
    "## 1. Complete the following code to find the area of an equilateral triangle. Output should be as displayed"
   ]
  },
  {
   "cell_type": "code",
   "execution_count": 2,
   "metadata": {
    "id": "rP2qFD_SlrS_"
   },
   "outputs": [
    {
     "name": "stdout",
     "output_type": "stream",
     "text": [
      "Enter the side of the equilateral triangle: 5\n",
      "10.825317547305483\n"
     ]
    }
   ],
   "source": [
    "import math\n",
    "side = float(input(\"Enter the side of the equilateral triangle: \"))\n",
    "area = ((math.sqrt(3))/4)*pow(side,2)\n",
    "print(area)\n"
   ]
  },
  {
   "cell_type": "markdown",
   "metadata": {
    "id": "TjVKjIfclrTB"
   },
   "source": [
    "## 2. Write a program to count the number of each characters in a string"
   ]
  },
  {
   "cell_type": "code",
   "execution_count": 1,
   "metadata": {
    "id": "JY5seVUQlrTC"
   },
   "outputs": [
    {
     "name": "stdout",
     "output_type": "stream",
     "text": [
      "Enter the string : muneeb pallipparambil\n",
      "Count of each characters of the string is : \n",
      " {'m': 2, 'u': 1, 'n': 1, 'e': 2, 'b': 2, ' ': 1, 'p': 3, 'a': 3, 'l': 3, 'i': 2, 'r': 1}\n"
     ]
    }
   ],
   "source": [
    "string = input('Enter the string : ')\n",
    "char_count = {}\n",
    "for i in string:\n",
    "    if i in char_count:\n",
    "        char_count[i] += 1\n",
    "    else:\n",
    "        char_count[i] = 1\n",
    "print(\"Count of each characters of the string is : \\n\", str(char_count))"
   ]
  },
  {
   "cell_type": "markdown",
   "metadata": {
    "id": "l3LCULfklrTD"
   },
   "source": [
    "## Write a program to find the area and perimeter of a rectangle using functions"
   ]
  },
  {
   "cell_type": "code",
   "execution_count": 11,
   "metadata": {
    "id": "8haQD8edlrTD",
    "scrolled": true
   },
   "outputs": [
    {
     "name": "stdout",
     "output_type": "stream",
     "text": [
      "Enter Legnth of rectngle5\n",
      "Enter Breadth of recatngle9\n",
      "Perimter of the rectangle is 28.0\n",
      "Area of the rectangle is 45.0\n"
     ]
    }
   ],
   "source": [
    "length= float(input('Enter Legnth of rectngle: '))\n",
    "breadth=float(input('Enter Breadth of recatngle: '))\n",
    "def rectangle_area(length,breadth):\n",
    "    area= length * breadth\n",
    "    perimeter= 2*(length+breadth)\n",
    "    print(\"Perimter of the rectangle is\", perimeter)\n",
    "    print(\"Area of the rectangle is\", area)\n",
    "rectangle_area(length, breadth)"
   ]
  },
  {
   "cell_type": "markdown",
   "metadata": {
    "id": "JHK4ZdsflrTE"
   },
   "source": [
    "# Write a program to print the fibonacci series till a specified number"
   ]
  },
  {
   "cell_type": "code",
   "execution_count": 2,
   "metadata": {
    "id": "LyBEj-4SlrTE"
   },
   "outputs": [
    {
     "name": "stdout",
     "output_type": "stream",
     "text": [
      "Enter No. Elements in the fibonacci series: 10\n",
      "fibonacci series upto 10  elements: \n",
      "0\n",
      "1\n",
      "1\n",
      "2\n",
      "3\n",
      "5\n",
      "8\n",
      "13\n",
      "21\n",
      "34\n"
     ]
    }
   ],
   "source": [
    "nterms=int(input('Enter No. Elements in the fibonacci series: '))\n",
    "n1,n2=0,1\n",
    "count=0\n",
    "if nterms<=0:\n",
    "    print(\"Invalid Number, Enter a Positive Number\")\n",
    "elif nterms==1:\n",
    "    print(\"Fibonacci sequence upto\",nterms,\":\")\n",
    "    print(n1)\n",
    "else:\n",
    "    print(\"fibonacci series upto\", nterms,\" elements: \")\n",
    "    while count<nterms:\n",
    "        print(n1)\n",
    "        nth=n1+n2\n",
    "        n1=n2\n",
    "        n2=nth\n",
    "        count+=1\n"
   ]
  },
  {
   "cell_type": "markdown",
   "metadata": {
    "id": "u4uBUcQKlrTE"
   },
   "source": [
    "## 5. Complete the following code to find the minimum of 3 number using cinditional statements. Output should be as displayed"
   ]
  },
  {
   "cell_type": "code",
   "execution_count": null,
   "metadata": {
    "id": "XdZwrZjIlrTF"
   },
   "outputs": [],
   "source": [
    "a,b,c =(input(\"Enter three numbers followed by space  : \").split())\n",
    "a=int(a)\n",
    "b=int(b)\n",
    "c=int(c)\n",
    "print(\"First number :\",a)\n",
    "print(\"Second number :\",b)\n",
    "print(\"Third number :\",c)\n",
    "if a==b==c:\n",
    "    print(\"Entered numbers are equal!!!\")\n",
    "elif a<b and a<c:\n",
    "    print(a,\" is smallest\")\n",
    "elif b<c:\n",
    "    print(b,\" is smallest\")\n",
    "else:\n",
    "    print(c,\" is smallest\")"
   ]
  },
  {
   "cell_type": "markdown",
   "metadata": {
    "id": "aR_CnToWlrTG"
   },
   "source": [
    "## 6. Write a program to print star pyramind. The number of rows should be taken as input from the user"
   ]
  },
  {
   "cell_type": "code",
   "execution_count": 83,
   "metadata": {
    "id": "M37A-buplrTG"
   },
   "outputs": [
    {
     "name": "stdout",
     "output_type": "stream",
     "text": [
      "Enter Number of Rows for Pyramid :10\n",
      "           \n",
      "          * \n",
      "         * * \n",
      "        * * * \n",
      "       * * * * \n",
      "      * * * * * \n",
      "     * * * * * * \n",
      "    * * * * * * * \n",
      "   * * * * * * * * \n",
      "  * * * * * * * * * \n",
      " * * * * * * * * * * \n"
     ]
    }
   ],
   "source": [
    "row= int(input(\"Enter Number of Rows for Pyramid :\"))\n",
    "count=0\n",
    "n1=row     \n",
    "while count<=row:\n",
    "    print(\" \" *n1,\"* \"*count)\n",
    "    n1=n1-1\n",
    "    count+=1\n"
   ]
  },
  {
   "cell_type": "markdown",
   "metadata": {
    "id": "tlY6aFWBlrTH"
   },
   "source": [
    "## 7. Complete the following code to convert hour into seconds. Output should be as displayed"
   ]
  },
  {
   "cell_type": "code",
   "execution_count": 94,
   "metadata": {
    "id": "YOZQFk7FlrTH"
   },
   "outputs": [
    {
     "name": "stdout",
     "output_type": "stream",
     "text": [
      "Enter time in Hour :5\n",
      "5.0  Hour is equal to 18000.0 Seconds\n"
     ]
    }
   ],
   "source": [
    "time_in_hours=float(input(\"Enter time in Hour :\"))\n",
    "def time_to_seconds(t):\n",
    "    t=(time_in_hours*3600)\n",
    "    return t\n",
    "print(time_in_hours ,\" Hour is equal to\" ,time_to_seconds(time_in_hours) , \"Seconds\")"
   ]
  },
  {
   "cell_type": "markdown",
   "metadata": {
    "id": "CnYorNiLlrTI"
   },
   "source": [
    "## 8. Write a program to print multiplication table as below"
   ]
  },
  {
   "cell_type": "code",
   "execution_count": 96,
   "metadata": {
    "id": "dPQqDPuDlrTI"
   },
   "outputs": [
    {
     "name": "stdout",
     "output_type": "stream",
     "text": [
      "Enter a number :5\n",
      "5 * 1 =  5\n",
      "5 * 2 =  10\n",
      "5 * 3 =  15\n",
      "5 * 4 =  20\n",
      "5 * 5 =  25\n",
      "5 * 6 =  30\n",
      "5 * 7 =  35\n",
      "5 * 8 =  40\n",
      "5 * 9 =  45\n",
      "5 * 10 =  50\n"
     ]
    }
   ],
   "source": [
    "num=int(input(\"Enter a number :\"))\n",
    "count=1\n",
    "while count<=10:\n",
    "    print(num, \"*\" ,count, \"= \",num*count)\n",
    "    count+=1"
   ]
  },
  {
   "cell_type": "markdown",
   "metadata": {
    "id": "Fiaez8iblrTI"
   },
   "source": [
    "## 9. Write a program to take your 5 favorite food as list and print each as 'I like Biriyani'"
   ]
  },
  {
   "cell_type": "code",
   "execution_count": 131,
   "metadata": {
    "id": "39W1zFX7lrTJ"
   },
   "outputs": [
    {
     "name": "stdout",
     "output_type": "stream",
     "text": [
      "Enter 5 Favourite food followed by space :icecream friedchicken juice rice noodles\n",
      "I Like icecream\n",
      "I Like friedchicken\n",
      "I Like juice\n",
      "I Like rice\n",
      "I Like noodles\n"
     ]
    }
   ],
   "source": [
    "food=list(input (\"Enter 5 Favourite food followed by space :\").split())\n",
    "for i in range(len(food)):\n",
    "    print(\"I Like\", food[i])"
   ]
  },
  {
   "cell_type": "markdown",
   "metadata": {
    "id": "3vlcDNNEP7d_"
   },
   "source": [
    "## 10. Find error(s) in the following code(if any) and rewrite code.\n",
    "\n"
   ]
  },
  {
   "cell_type": "code",
   "execution_count": null,
   "metadata": {
    "id": "coREkcY3P9sG"
   },
   "outputs": [],
   "source": [
    "x= int(input('Enter value of x:'))\n",
    "for y in range (0,10):\n",
    "     if x==y:\n",
    "          print(x,\"and\",y,\"are equal\")\n",
    "     else:\n",
    "         print(x,\"and\",y,\"are unequal\")"
   ]
  },
  {
   "cell_type": "code",
   "execution_count": null,
   "metadata": {},
   "outputs": [],
   "source": []
  },
  {
   "cell_type": "code",
   "execution_count": null,
   "metadata": {},
   "outputs": [],
   "source": []
  }
 ],
 "metadata": {
  "colab": {
   "collapsed_sections": [],
   "name": "Q&A activity student file.ipynb",
   "provenance": []
  },
  "kernelspec": {
   "display_name": "Python 3",
   "language": "python",
   "name": "python3"
  },
  "language_info": {
   "codemirror_mode": {
    "name": "ipython",
    "version": 3
   },
   "file_extension": ".py",
   "mimetype": "text/x-python",
   "name": "python",
   "nbconvert_exporter": "python",
   "pygments_lexer": "ipython3",
   "version": "3.8.8"
  }
 },
 "nbformat": 4,
 "nbformat_minor": 1
}
