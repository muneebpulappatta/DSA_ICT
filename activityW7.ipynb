{
 "cells": [
  {
   "cell_type": "code",
   "execution_count": 129,
   "id": "69907255",
   "metadata": {},
   "outputs": [],
   "source": [
    "import pandas as pd\n",
    "import matplotlib.pyplot as plt\n",
    "import seaborn as sns\n",
    "import warnings\n",
    "warnings.filterwarnings('ignore')"
   ]
  },
  {
   "cell_type": "code",
   "execution_count": 117,
   "id": "1f9e9053",
   "metadata": {},
   "outputs": [],
   "source": [
    "data1=pd.read_excel(\"G:\\study\\Data Science - ICT\\Week 7\\Dataset_w6.xlsx\")"
   ]
  },
  {
   "cell_type": "code",
   "execution_count": 118,
   "id": "16cfebfe",
   "metadata": {
    "scrolled": false
   },
   "outputs": [
    {
     "data": {
      "text/html": [
       "<div>\n",
       "<style scoped>\n",
       "    .dataframe tbody tr th:only-of-type {\n",
       "        vertical-align: middle;\n",
       "    }\n",
       "\n",
       "    .dataframe tbody tr th {\n",
       "        vertical-align: top;\n",
       "    }\n",
       "\n",
       "    .dataframe thead th {\n",
       "        text-align: right;\n",
       "    }\n",
       "</style>\n",
       "<table border=\"1\" class=\"dataframe\">\n",
       "  <thead>\n",
       "    <tr style=\"text-align: right;\">\n",
       "      <th></th>\n",
       "      <th>country</th>\n",
       "      <th>Region</th>\n",
       "      <th>Surface area (km2)</th>\n",
       "      <th>Population in thousands (2017)</th>\n",
       "      <th>GDP per capita (current US$)</th>\n",
       "      <th>Agricultural production index</th>\n",
       "      <th>International trade: Imports (million US$)</th>\n",
       "    </tr>\n",
       "  </thead>\n",
       "  <tbody>\n",
       "    <tr>\n",
       "      <th>0</th>\n",
       "      <td>Afghanistan</td>\n",
       "      <td>SouthernAsia</td>\n",
       "      <td>652864</td>\n",
       "      <td>35530</td>\n",
       "      <td>623.2</td>\n",
       "      <td>125</td>\n",
       "      <td>3568</td>\n",
       "    </tr>\n",
       "    <tr>\n",
       "      <th>1</th>\n",
       "      <td>Albania</td>\n",
       "      <td>SouthernEurope</td>\n",
       "      <td>28748</td>\n",
       "      <td>2930</td>\n",
       "      <td>3984.2</td>\n",
       "      <td>134</td>\n",
       "      <td>4669</td>\n",
       "    </tr>\n",
       "    <tr>\n",
       "      <th>2</th>\n",
       "      <td>Algeria</td>\n",
       "      <td>NorthernAfrica</td>\n",
       "      <td>2381741</td>\n",
       "      <td>41318</td>\n",
       "      <td>4154.1</td>\n",
       "      <td>160</td>\n",
       "      <td>47091</td>\n",
       "    </tr>\n",
       "    <tr>\n",
       "      <th>3</th>\n",
       "      <td>Angola</td>\n",
       "      <td>MiddleAfrica</td>\n",
       "      <td>1246700</td>\n",
       "      <td>29784</td>\n",
       "      <td>4714.1</td>\n",
       "      <td>175</td>\n",
       "      <td>8790</td>\n",
       "    </tr>\n",
       "    <tr>\n",
       "      <th>4</th>\n",
       "      <td>Antigua and Barbuda</td>\n",
       "      <td>Caribbean</td>\n",
       "      <td>442</td>\n",
       "      <td>102</td>\n",
       "      <td>14764.5</td>\n",
       "      <td>88</td>\n",
       "      <td>491</td>\n",
       "    </tr>\n",
       "    <tr>\n",
       "      <th>...</th>\n",
       "      <td>...</td>\n",
       "      <td>...</td>\n",
       "      <td>...</td>\n",
       "      <td>...</td>\n",
       "      <td>...</td>\n",
       "      <td>...</td>\n",
       "      <td>...</td>\n",
       "    </tr>\n",
       "    <tr>\n",
       "      <th>191</th>\n",
       "      <td>Venezuela (Bolivarian Republic of)</td>\n",
       "      <td>SouthAmerica</td>\n",
       "      <td>912050</td>\n",
       "      <td>31977</td>\n",
       "      <td>11068.9</td>\n",
       "      <td>118</td>\n",
       "      <td>16324</td>\n",
       "    </tr>\n",
       "    <tr>\n",
       "      <th>192</th>\n",
       "      <td>Viet Nam</td>\n",
       "      <td>South-easternAsia</td>\n",
       "      <td>330967</td>\n",
       "      <td>95541</td>\n",
       "      <td>2067.9</td>\n",
       "      <td>136</td>\n",
       "      <td>174111</td>\n",
       "    </tr>\n",
       "    <tr>\n",
       "      <th>193</th>\n",
       "      <td>Yemen</td>\n",
       "      <td>WesternAsia</td>\n",
       "      <td>527968</td>\n",
       "      <td>28250</td>\n",
       "      <td>1106.4</td>\n",
       "      <td>136</td>\n",
       "      <td>6861</td>\n",
       "    </tr>\n",
       "    <tr>\n",
       "      <th>194</th>\n",
       "      <td>Zambia</td>\n",
       "      <td>EasternAfrica</td>\n",
       "      <td>752612</td>\n",
       "      <td>17094</td>\n",
       "      <td>1311.1</td>\n",
       "      <td>179</td>\n",
       "      <td>7442</td>\n",
       "    </tr>\n",
       "    <tr>\n",
       "      <th>195</th>\n",
       "      <td>Zimbabwe</td>\n",
       "      <td>EasternAfrica</td>\n",
       "      <td>390757</td>\n",
       "      <td>16530</td>\n",
       "      <td>890.4</td>\n",
       "      <td>99</td>\n",
       "      <td>5212</td>\n",
       "    </tr>\n",
       "  </tbody>\n",
       "</table>\n",
       "<p>196 rows × 7 columns</p>\n",
       "</div>"
      ],
      "text/plain": [
       "                                country             Region  \\\n",
       "0                           Afghanistan       SouthernAsia   \n",
       "1                               Albania     SouthernEurope   \n",
       "2                               Algeria     NorthernAfrica   \n",
       "3                                Angola       MiddleAfrica   \n",
       "4                   Antigua and Barbuda          Caribbean   \n",
       "..                                  ...                ...   \n",
       "191  Venezuela (Bolivarian Republic of)       SouthAmerica   \n",
       "192                            Viet Nam  South-easternAsia   \n",
       "193                               Yemen        WesternAsia   \n",
       "194                              Zambia      EasternAfrica   \n",
       "195                            Zimbabwe      EasternAfrica   \n",
       "\n",
       "     Surface area (km2)  Population in thousands (2017)  \\\n",
       "0                652864                           35530   \n",
       "1                 28748                            2930   \n",
       "2               2381741                           41318   \n",
       "3               1246700                           29784   \n",
       "4                   442                             102   \n",
       "..                  ...                             ...   \n",
       "191              912050                           31977   \n",
       "192              330967                           95541   \n",
       "193              527968                           28250   \n",
       "194              752612                           17094   \n",
       "195              390757                           16530   \n",
       "\n",
       "     GDP per capita (current US$)  Agricultural production index   \\\n",
       "0                           623.2                             125   \n",
       "1                          3984.2                             134   \n",
       "2                          4154.1                             160   \n",
       "3                          4714.1                             175   \n",
       "4                         14764.5                              88   \n",
       "..                            ...                             ...   \n",
       "191                       11068.9                             118   \n",
       "192                        2067.9                             136   \n",
       "193                        1106.4                             136   \n",
       "194                        1311.1                             179   \n",
       "195                         890.4                              99   \n",
       "\n",
       "     International trade: Imports (million US$)  \n",
       "0                                          3568  \n",
       "1                                          4669  \n",
       "2                                         47091  \n",
       "3                                          8790  \n",
       "4                                           491  \n",
       "..                                          ...  \n",
       "191                                       16324  \n",
       "192                                      174111  \n",
       "193                                        6861  \n",
       "194                                        7442  \n",
       "195                                        5212  \n",
       "\n",
       "[196 rows x 7 columns]"
      ]
     },
     "execution_count": 118,
     "metadata": {},
     "output_type": "execute_result"
    }
   ],
   "source": [
    "data1"
   ]
  },
  {
   "cell_type": "code",
   "execution_count": 17,
   "id": "e3fb325c",
   "metadata": {
    "scrolled": true
   },
   "outputs": [
    {
     "name": "stdout",
     "output_type": "stream",
     "text": [
      "<class 'pandas.core.frame.DataFrame'>\n",
      "RangeIndex: 196 entries, 0 to 195\n",
      "Data columns (total 7 columns):\n",
      " #   Column                                      Non-Null Count  Dtype  \n",
      "---  ------                                      --------------  -----  \n",
      " 0   country                                     196 non-null    object \n",
      " 1   Region                                      196 non-null    object \n",
      " 2   Surface area (km2)                          196 non-null    int64  \n",
      " 3   Population in thousands (2017)              196 non-null    int64  \n",
      " 4   GDP per capita (current US$)                196 non-null    float64\n",
      " 5   Agricultural production index               196 non-null    int64  \n",
      " 6   International trade: Imports (million US$)  196 non-null    int64  \n",
      "dtypes: float64(1), int64(4), object(2)\n",
      "memory usage: 10.8+ KB\n"
     ]
    }
   ],
   "source": [
    "data1.info()"
   ]
  },
  {
   "cell_type": "code",
   "execution_count": 18,
   "id": "7fc624de",
   "metadata": {},
   "outputs": [
    {
     "data": {
      "text/html": [
       "<div>\n",
       "<style scoped>\n",
       "    .dataframe tbody tr th:only-of-type {\n",
       "        vertical-align: middle;\n",
       "    }\n",
       "\n",
       "    .dataframe tbody tr th {\n",
       "        vertical-align: top;\n",
       "    }\n",
       "\n",
       "    .dataframe thead th {\n",
       "        text-align: right;\n",
       "    }\n",
       "</style>\n",
       "<table border=\"1\" class=\"dataframe\">\n",
       "  <thead>\n",
       "    <tr style=\"text-align: right;\">\n",
       "      <th></th>\n",
       "      <th>Surface area (km2)</th>\n",
       "      <th>Population in thousands (2017)</th>\n",
       "      <th>GDP per capita (current US$)</th>\n",
       "      <th>Agricultural production index</th>\n",
       "      <th>International trade: Imports (million US$)</th>\n",
       "    </tr>\n",
       "  </thead>\n",
       "  <tbody>\n",
       "    <tr>\n",
       "      <th>count</th>\n",
       "      <td>1.960000e+02</td>\n",
       "      <td>1.960000e+02</td>\n",
       "      <td>196.000000</td>\n",
       "      <td>196.000000</td>\n",
       "      <td>1.960000e+02</td>\n",
       "    </tr>\n",
       "    <tr>\n",
       "      <th>mean</th>\n",
       "      <td>6.787071e+05</td>\n",
       "      <td>3.796658e+04</td>\n",
       "      <td>13727.343367</td>\n",
       "      <td>117.066327</td>\n",
       "      <td>7.996138e+04</td>\n",
       "    </tr>\n",
       "    <tr>\n",
       "      <th>std</th>\n",
       "      <td>1.914200e+06</td>\n",
       "      <td>1.434228e+05</td>\n",
       "      <td>18995.593914</td>\n",
       "      <td>25.521247</td>\n",
       "      <td>2.340416e+05</td>\n",
       "    </tr>\n",
       "    <tr>\n",
       "      <th>min</th>\n",
       "      <td>2.600000e+01</td>\n",
       "      <td>5.000000e+00</td>\n",
       "      <td>144.500000</td>\n",
       "      <td>34.000000</td>\n",
       "      <td>1.200000e+01</td>\n",
       "    </tr>\n",
       "    <tr>\n",
       "      <th>25%</th>\n",
       "      <td>2.084900e+04</td>\n",
       "      <td>1.462000e+03</td>\n",
       "      <td>1840.725000</td>\n",
       "      <td>102.000000</td>\n",
       "      <td>2.162500e+03</td>\n",
       "    </tr>\n",
       "    <tr>\n",
       "      <th>50%</th>\n",
       "      <td>1.136275e+05</td>\n",
       "      <td>7.677500e+03</td>\n",
       "      <td>5463.450000</td>\n",
       "      <td>114.000000</td>\n",
       "      <td>8.255500e+03</td>\n",
       "    </tr>\n",
       "    <tr>\n",
       "      <th>75%</th>\n",
       "      <td>5.077380e+05</td>\n",
       "      <td>2.624075e+04</td>\n",
       "      <td>15849.550000</td>\n",
       "      <td>133.250000</td>\n",
       "      <td>4.612275e+04</td>\n",
       "    </tr>\n",
       "    <tr>\n",
       "      <th>max</th>\n",
       "      <td>1.709825e+07</td>\n",
       "      <td>1.409517e+06</td>\n",
       "      <td>100160.800000</td>\n",
       "      <td>199.000000</td>\n",
       "      <td>2.249661e+06</td>\n",
       "    </tr>\n",
       "  </tbody>\n",
       "</table>\n",
       "</div>"
      ],
      "text/plain": [
       "       Surface area (km2)  Population in thousands (2017)  \\\n",
       "count        1.960000e+02                    1.960000e+02   \n",
       "mean         6.787071e+05                    3.796658e+04   \n",
       "std          1.914200e+06                    1.434228e+05   \n",
       "min          2.600000e+01                    5.000000e+00   \n",
       "25%          2.084900e+04                    1.462000e+03   \n",
       "50%          1.136275e+05                    7.677500e+03   \n",
       "75%          5.077380e+05                    2.624075e+04   \n",
       "max          1.709825e+07                    1.409517e+06   \n",
       "\n",
       "       GDP per capita (current US$)  Agricultural production index   \\\n",
       "count                    196.000000                      196.000000   \n",
       "mean                   13727.343367                      117.066327   \n",
       "std                    18995.593914                       25.521247   \n",
       "min                      144.500000                       34.000000   \n",
       "25%                     1840.725000                      102.000000   \n",
       "50%                     5463.450000                      114.000000   \n",
       "75%                    15849.550000                      133.250000   \n",
       "max                   100160.800000                      199.000000   \n",
       "\n",
       "       International trade: Imports (million US$)  \n",
       "count                                1.960000e+02  \n",
       "mean                                 7.996138e+04  \n",
       "std                                  2.340416e+05  \n",
       "min                                  1.200000e+01  \n",
       "25%                                  2.162500e+03  \n",
       "50%                                  8.255500e+03  \n",
       "75%                                  4.612275e+04  \n",
       "max                                  2.249661e+06  "
      ]
     },
     "execution_count": 18,
     "metadata": {},
     "output_type": "execute_result"
    }
   ],
   "source": [
    "data1.describe()"
   ]
  },
  {
   "cell_type": "markdown",
   "id": "c91d512c",
   "metadata": {},
   "source": [
    "# 1. Find out how many countries are there in the dataset."
   ]
  },
  {
   "cell_type": "code",
   "execution_count": 14,
   "id": "c36c9624",
   "metadata": {
    "scrolled": true
   },
   "outputs": [
    {
     "data": {
      "text/html": [
       "<div>\n",
       "<style scoped>\n",
       "    .dataframe tbody tr th:only-of-type {\n",
       "        vertical-align: middle;\n",
       "    }\n",
       "\n",
       "    .dataframe tbody tr th {\n",
       "        vertical-align: top;\n",
       "    }\n",
       "\n",
       "    .dataframe thead th {\n",
       "        text-align: right;\n",
       "    }\n",
       "</style>\n",
       "<table border=\"1\" class=\"dataframe\">\n",
       "  <thead>\n",
       "    <tr style=\"text-align: right;\">\n",
       "      <th></th>\n",
       "      <th>country</th>\n",
       "      <th>Region</th>\n",
       "      <th>Surface area (km2)</th>\n",
       "      <th>Population in thousands (2017)</th>\n",
       "      <th>GDP per capita (current US$)</th>\n",
       "      <th>Agricultural production index</th>\n",
       "      <th>International trade: Imports (million US$)</th>\n",
       "    </tr>\n",
       "  </thead>\n",
       "  <tbody>\n",
       "    <tr>\n",
       "      <th>0</th>\n",
       "      <td>Afghanistan</td>\n",
       "      <td>SouthernAsia</td>\n",
       "      <td>652864</td>\n",
       "      <td>35530</td>\n",
       "      <td>623.2</td>\n",
       "      <td>125</td>\n",
       "      <td>3568</td>\n",
       "    </tr>\n",
       "    <tr>\n",
       "      <th>1</th>\n",
       "      <td>Albania</td>\n",
       "      <td>SouthernEurope</td>\n",
       "      <td>28748</td>\n",
       "      <td>2930</td>\n",
       "      <td>3984.2</td>\n",
       "      <td>134</td>\n",
       "      <td>4669</td>\n",
       "    </tr>\n",
       "    <tr>\n",
       "      <th>2</th>\n",
       "      <td>Algeria</td>\n",
       "      <td>NorthernAfrica</td>\n",
       "      <td>2381741</td>\n",
       "      <td>41318</td>\n",
       "      <td>4154.1</td>\n",
       "      <td>160</td>\n",
       "      <td>47091</td>\n",
       "    </tr>\n",
       "    <tr>\n",
       "      <th>3</th>\n",
       "      <td>Angola</td>\n",
       "      <td>MiddleAfrica</td>\n",
       "      <td>1246700</td>\n",
       "      <td>29784</td>\n",
       "      <td>4714.1</td>\n",
       "      <td>175</td>\n",
       "      <td>8790</td>\n",
       "    </tr>\n",
       "    <tr>\n",
       "      <th>4</th>\n",
       "      <td>Antigua and Barbuda</td>\n",
       "      <td>Caribbean</td>\n",
       "      <td>442</td>\n",
       "      <td>102</td>\n",
       "      <td>14764.5</td>\n",
       "      <td>88</td>\n",
       "      <td>491</td>\n",
       "    </tr>\n",
       "  </tbody>\n",
       "</table>\n",
       "</div>"
      ],
      "text/plain": [
       "               country          Region  Surface area (km2)  \\\n",
       "0          Afghanistan    SouthernAsia              652864   \n",
       "1              Albania  SouthernEurope               28748   \n",
       "2              Algeria  NorthernAfrica             2381741   \n",
       "3               Angola    MiddleAfrica             1246700   \n",
       "4  Antigua and Barbuda       Caribbean                 442   \n",
       "\n",
       "   Population in thousands (2017)  GDP per capita (current US$)  \\\n",
       "0                           35530                         623.2   \n",
       "1                            2930                        3984.2   \n",
       "2                           41318                        4154.1   \n",
       "3                           29784                        4714.1   \n",
       "4                             102                       14764.5   \n",
       "\n",
       "   Agricultural production index   International trade: Imports (million US$)  \n",
       "0                             125                                        3568  \n",
       "1                             134                                        4669  \n",
       "2                             160                                       47091  \n",
       "3                             175                                        8790  \n",
       "4                              88                                         491  "
      ]
     },
     "execution_count": 14,
     "metadata": {},
     "output_type": "execute_result"
    }
   ],
   "source": [
    "data1.head()"
   ]
  },
  {
   "cell_type": "code",
   "execution_count": 93,
   "id": "eaba7698",
   "metadata": {
    "scrolled": false
   },
   "outputs": [
    {
     "data": {
      "text/plain": [
       "196"
      ]
     },
     "execution_count": 93,
     "metadata": {},
     "output_type": "execute_result"
    }
   ],
   "source": [
    "data1['country'].count()"
   ]
  },
  {
   "cell_type": "markdown",
   "id": "24539a6a",
   "metadata": {},
   "source": [
    "# 2. Examine the data by using visualizations"
   ]
  },
  {
   "cell_type": "code",
   "execution_count": 130,
   "id": "6d025836",
   "metadata": {},
   "outputs": [
    {
     "data": {
      "image/png": "[encoded data removed]",
      "text/plain": [
       "<Figure size 720x720 with 1 Axes>"
      ]
     },
     "metadata": {
      "needs_background": "light"
     },
     "output_type": "display_data"
    }
   ],
   "source": [
    "plt.figure(figsize=(10,10))\n",
    "sns.barplot(y='Region',x='Population in thousands (2017)', data=data1)\n",
    "plt.title('Region VS Population',fontsize=14)\n",
    "plt.grid()"
   ]
  },
  {
   "cell_type": "code",
   "execution_count": 132,
   "id": "6a2e56ac",
   "metadata": {},
   "outputs": [
    {
     "data": {
      "image/png": "[encoded data removed]",
      "text/plain": [
       "<Figure size 720x720 with 1 Axes>"
      ]
     },
     "metadata": {
      "needs_background": "light"
     },
     "output_type": "display_data"
    }
   ],
   "source": [
    "plt.figure(figsize=(10,10))\n",
    "sns.scatterplot(x='GDP per capita (current US$)',y='International trade: Imports (million US$)',data=data1)\n",
    "plt.title('GDP per capita VS International trade: Imports',fontsize=14)\n",
    "plt.grid()"
   ]
  },
  {
   "cell_type": "markdown",
   "id": "bb780c55",
   "metadata": {},
   "source": [
    "# 3. Find out how many countries with respect to the region are available in the dataset"
   ]
  },
  {
   "cell_type": "code",
   "execution_count": 124,
   "id": "70cc8281",
   "metadata": {},
   "outputs": [
    {
     "data": {
      "text/plain": [
       "Region\n",
       "Caribbean            16\n",
       "CentralAmerica        8\n",
       "CentralAsia           5\n",
       "EasternAfrica        17\n",
       "EasternAsia           7\n",
       "EasternEurope        10\n",
       "Melanesia             5\n",
       "Micronesia            4\n",
       "MiddleAfrica          9\n",
       "NorthernAfrica        5\n",
       "NorthernAmerica       4\n",
       "NorthernEurope       10\n",
       "Oceania               2\n",
       "Polynesia             5\n",
       "South-easternAsia    11\n",
       "SouthAmerica         12\n",
       "SouthernAfrica        5\n",
       "SouthernAsia          9\n",
       "SouthernEurope       12\n",
       "WesternAfrica        15\n",
       "WesternAsia          18\n",
       "WesternEurope         7\n",
       "Name: country, dtype: int64"
      ]
     },
     "execution_count": 124,
     "metadata": {},
     "output_type": "execute_result"
    }
   ],
   "source": [
    "data1.groupby('Region')['country'].nunique()"
   ]
  },
  {
   "cell_type": "markdown",
   "id": "36fc6c7a",
   "metadata": {},
   "source": [
    "# 4. On average which region has the highest \n",
    "## a. GDP per capita (current USD)"
   ]
  },
  {
   "cell_type": "code",
   "execution_count": 133,
   "id": "cc934b52",
   "metadata": {
    "scrolled": true
   },
   "outputs": [],
   "source": [
    "GDP=data1.groupby('Region')[\"GDP per capita (current US$)\"].mean()"
   ]
  },
  {
   "cell_type": "code",
   "execution_count": 134,
   "id": "ffca05e9",
   "metadata": {
    "scrolled": true
   },
   "outputs": [
    {
     "data": {
      "text/plain": [
       "Region\n",
       "Caribbean            15135.562500\n",
       "CentralAmerica        6348.137500\n",
       "CentralAsia           4329.880000\n",
       "EasternAfrica         2088.852941\n",
       "EasternAsia          27967.614286\n",
       "EasternEurope         9292.490000\n",
       "Melanesia             9261.960000\n",
       "Micronesia            5008.300000\n",
       "MiddleAfrica          3928.833333\n",
       "NorthernAfrica        3934.960000\n",
       "NorthernAmerica      57659.000000\n",
       "NorthernEurope       42098.220000\n",
       "Oceania              44823.250000\n",
       "Polynesia             8686.520000\n",
       "South-easternAsia    10299.027273\n",
       "SouthAmerica          8499.775000\n",
       "SouthernAfrica        4191.900000\n",
       "SouthernAsia          2968.400000\n",
       "SouthernEurope       14462.741667\n",
       "WesternAfrica         1013.140000\n",
       "WesternAsia          17013.938889\n",
       "WesternEurope        55387.128571\n",
       "Name: GDP per capita (current US$), dtype: float64"
      ]
     },
     "execution_count": 134,
     "metadata": {},
     "output_type": "execute_result"
    }
   ],
   "source": [
    "GDP"
   ]
  },
  {
   "cell_type": "code",
   "execution_count": 138,
   "id": "b24fc42e",
   "metadata": {},
   "outputs": [
    {
     "data": {
      "text/plain": [
       "Region\n",
       "NorthernAmerica    57659.0\n",
       "Name: GDP per capita (current US$), dtype: float64"
      ]
     },
     "execution_count": 138,
     "metadata": {},
     "output_type": "execute_result"
    }
   ],
   "source": [
    "GDP.nlargest(1)"
   ]
  },
  {
   "cell_type": "markdown",
   "id": "e046f406",
   "metadata": {},
   "source": [
    "## b. International trade: Imports (million US$)"
   ]
  },
  {
   "cell_type": "code",
   "execution_count": 147,
   "id": "eb519c8c",
   "metadata": {},
   "outputs": [],
   "source": [
    "imports=data1.groupby('Region')['International trade: Imports (million US$)'].mean()"
   ]
  },
  {
   "cell_type": "code",
   "execution_count": 148,
   "id": "94440304",
   "metadata": {},
   "outputs": [
    {
     "data": {
      "text/plain": [
       "Region\n",
       "Caribbean              3057.312500\n",
       "CentralAmerica        57031.500000\n",
       "CentralAsia           12063.400000\n",
       "EasternAfrica          4726.176471\n",
       "EasternAsia          451995.000000\n",
       "EasternEurope         85243.900000\n",
       "Melanesia              2896.400000\n",
       "Micronesia               99.000000\n",
       "MiddleAfrica           4381.222222\n",
       "NorthernAfrica        35034.400000\n",
       "NorthernAmerica      663552.250000\n",
       "NorthernEurope       113407.200000\n",
       "Oceania              112914.500000\n",
       "Polynesia               432.000000\n",
       "South-easternAsia     98324.636364\n",
       "SouthAmerica          32885.666667\n",
       "SouthernAfrica        18005.600000\n",
       "SouthernAsia          58199.333333\n",
       "SouthernEurope        76666.666667\n",
       "WesternAfrica          4898.333333\n",
       "WesternAsia           46025.555556\n",
       "WesternEurope        407498.428571\n",
       "Name: International trade: Imports (million US$), dtype: float64"
      ]
     },
     "execution_count": 148,
     "metadata": {},
     "output_type": "execute_result"
    }
   ],
   "source": [
    "imports"
   ]
  },
  {
   "cell_type": "code",
   "execution_count": 149,
   "id": "a7fbd527",
   "metadata": {
    "scrolled": true
   },
   "outputs": [
    {
     "data": {
      "text/plain": [
       "Region\n",
       "NorthernAmerica    663552.25\n",
       "Name: International trade: Imports (million US$), dtype: float64"
      ]
     },
     "execution_count": 149,
     "metadata": {},
     "output_type": "execute_result"
    }
   ],
   "source": [
    "imports.nlargest(1)"
   ]
  },
  {
   "cell_type": "markdown",
   "id": "70ec3ddf",
   "metadata": {},
   "source": [
    "# 5.Find out which region has more consistent with respect to GDP per capita (current US$)"
   ]
  },
  {
   "cell_type": "code",
   "execution_count": 150,
   "id": "357dad7a",
   "metadata": {},
   "outputs": [],
   "source": [
    "GDP1=data1.groupby('Region')[\"GDP per capita (current US$)\"].std()"
   ]
  },
  {
   "cell_type": "code",
   "execution_count": 151,
   "id": "a5115914",
   "metadata": {},
   "outputs": [
    {
     "data": {
      "text/plain": [
       "Region\n",
       "Caribbean            14579.371326\n",
       "CentralAmerica        4180.440883\n",
       "CentralAsia           4152.215490\n",
       "EasternAfrica         3716.131770\n",
       "EasternAsia          27485.120923\n",
       "EasternEurope         5415.488739\n",
       "Melanesia            13855.842686\n",
       "Micronesia            4820.669694\n",
       "MiddleAfrica          5274.846281\n",
       "NorthernAfrica         974.706575\n",
       "NorthernAmerica      25749.619445\n",
       "NorthernEurope       20671.030185\n",
       "Oceania               9233.329638\n",
       "Polynesia             6956.250286\n",
       "South-easternAsia    16311.810656\n",
       "SouthAmerica          4273.707394\n",
       "SouthernAfrica        2177.551120\n",
       "SouthernAsia          2855.708179\n",
       "SouthernEurope        9541.703216\n",
       "WesternAfrica          815.095399\n",
       "WesternAsia          18812.151459\n",
       "WesternEurope        24770.467728\n",
       "Name: GDP per capita (current US$), dtype: float64"
      ]
     },
     "execution_count": 151,
     "metadata": {},
     "output_type": "execute_result"
    }
   ],
   "source": [
    "GDP1"
   ]
  },
  {
   "cell_type": "code",
   "execution_count": 152,
   "id": "8a6277ed",
   "metadata": {},
   "outputs": [
    {
     "data": {
      "text/plain": [
       "Region\n",
       "WesternAfrica    815.095399\n",
       "Name: GDP per capita (current US$), dtype: float64"
      ]
     },
     "execution_count": 152,
     "metadata": {},
     "output_type": "execute_result"
    }
   ],
   "source": [
    "GDP1.nsmallest(1)"
   ]
  }
 ],
 "metadata": {
  "kernelspec": {
   "display_name": "Python 3",
   "language": "python",
   "name": "python3"
  },
  "language_info": {
   "codemirror_mode": {
    "name": "ipython",
    "version": 3
   },
   "file_extension": ".py",
   "mimetype": "text/x-python",
   "name": "python",
   "nbconvert_exporter": "python",
   "pygments_lexer": "ipython3",
   "version": "3.8.8"
  }
 },
 "nbformat": 4,
 "nbformat_minor": 5
}
