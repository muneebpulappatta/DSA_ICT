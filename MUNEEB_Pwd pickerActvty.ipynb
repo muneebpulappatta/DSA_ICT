{
 "cells": [
  {
   "cell_type": "code",
   "execution_count": 1,
   "id": "dcf91e84",
   "metadata": {},
   "outputs": [
    {
     "name": "stdout",
     "output_type": "stream",
     "text": [
      "password is: puzzledberry15=\n"
     ]
    }
   ],
   "source": [
    "import wonderwords\n",
    "from wonderwords import RandomWord\n",
    "import random\n",
    "r = RandomWord()\n",
    "nouns = [r.word(include_parts_of_speech=[\"nouns\"])]\n",
    "adjectives =[ r.word(include_parts_of_speech=[\"adjectives\"])]\n",
    "number = list(range(0,100))\n",
    "punctuation=[\"!\",\"@\",\"#\",\"%\",\"$\",\"%\",\"&\",\"*\",\"=\",\"<\",\">\",\":\",\"/\",\"?\"]\n",
    "adj=random.choice(adjectives)\n",
    "nou=random.choice(nouns)\n",
    "num=random.choice(number)\n",
    "pun=random.choice(punctuation)\n",
    "\n",
    "password= str(adj)+str(nou)+str(num)+str(pun)\n",
    "print(\"password is:\",password)"
   ]
  }
 ],
 "metadata": {
  "kernelspec": {
   "display_name": "Python 3",
   "language": "python",
   "name": "python3"
  },
  "language_info": {
   "codemirror_mode": {
    "name": "ipython",
    "version": 3
   },
   "file_extension": ".py",
   "mimetype": "text/x-python",
   "name": "python",
   "nbconvert_exporter": "python",
   "pygments_lexer": "ipython3",
   "version": "3.8.8"
  }
 },
 "nbformat": 4,
 "nbformat_minor": 5
}
