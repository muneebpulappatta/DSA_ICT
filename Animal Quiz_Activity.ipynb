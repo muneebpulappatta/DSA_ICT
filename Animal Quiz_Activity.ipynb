{
 "cells": [
  {
   "cell_type": "code",
   "execution_count": 1,
   "id": "cacf8918",
   "metadata": {},
   "outputs": [
    {
     "name": "stdout",
     "output_type": "stream",
     "text": [
      "Guess the Animal\n",
      "Which bear lives at the North Pole? polar bear\n",
      "Correct Answer\n",
      "Which is the fastest land animal? tiger\n",
      "Sorry Wrong Answer, try again cheetah\n",
      "Correct Answer\n",
      "Which is the larget animal? elephant\n",
      "Sorry Wrong Answer, try again dinosar\n",
      "Sorry Wrong Answer, try again giraffe\n",
      "The answer is  Blue Whale\n",
      "Your Score is 2\n"
     ]
    }
   ],
   "source": [
    "def animalquiz(guess, answer):\n",
    "    \n",
    "    global score\n",
    "    chance=0\n",
    "    \n",
    "    for chance in range(0,3):\n",
    "        if guess.lower() == answer.lower():\n",
    "            print(\"Correct Answer\")\n",
    "            score+=1\n",
    "            break\n",
    "        elif  chance<2:\n",
    "            guess = input(\"Sorry Wrong Answer, try again \")\n",
    "        else:\n",
    "             print(\"The answer is \",answer)\n",
    "                \n",
    "score = 0\n",
    "print(\"Guess the Animal\")\n",
    "guess1 = input(\"Which bear lives at the North Pole? \")\n",
    "animalquiz(guess1, \"polar bear\")\n",
    "guess2 = input(\"Which is the fastest land animal? \")\n",
    "animalquiz(guess2, \"Cheetah\")\n",
    "guess3 = input(\"Which is the largest animal? \")\n",
    "animalquiz(guess3, \"Blue Whale\")\n",
    "print(\"Your Score is \"+ str(score))"
   ]
  },
  {
   "cell_type": "code",
   "execution_count": null,
   "id": "1a0f991a",
   "metadata": {},
   "outputs": [],
   "source": []
  }
 ],
 "metadata": {
  "kernelspec": {
   "display_name": "Python 3",
   "language": "python",
   "name": "python3"
  },
  "language_info": {
   "codemirror_mode": {
    "name": "ipython",
    "version": 3
   },
   "file_extension": ".py",
   "mimetype": "text/x-python",
   "name": "python",
   "nbconvert_exporter": "python",
   "pygments_lexer": "ipython3",
   "version": "3.8.8"
  }
 },
 "nbformat": 4,
 "nbformat_minor": 5
}
